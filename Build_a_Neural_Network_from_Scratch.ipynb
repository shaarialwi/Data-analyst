{
  "nbformat": 4,
  "nbformat_minor": 0,
  "metadata": {
    "colab": {
      "name": "Build a Neural Network from Scratch.ipynb",
      "provenance": [],
      "include_colab_link": true
    },
    "kernelspec": {
      "name": "python3",
      "display_name": "Python 3"
    }
  },
  "cells": [
    {
      "cell_type": "markdown",
      "metadata": {
        "id": "view-in-github",
        "colab_type": "text"
      },
      "source": [
        "<a href=\"https://colab.research.google.com/github/shaarialwi/Data-analyst/blob/main/Build_a_Neural_Network_from_Scratch.ipynb\" target=\"_parent\"><img src=\"https://colab.research.google.com/assets/colab-badge.svg\" alt=\"Open In Colab\"/></a>"
      ]
    },
    {
      "cell_type": "code",
      "metadata": {
        "id": "4ZyuEXBvHkO3"
      },
      "source": [
        "import numpy as np\n",
        "import matplotlib.pyplot as plt \n",
        "\n",
        "inputs = np.array([[0, 0, 1],\n",
        "                   [0, 1, 0],\n",
        "                   [1, 0, 1],\n",
        "                   [1, 1, 0],\n",
        "                   ])\n",
        "\n",
        "outputs = np.array([[0], [0], [1], [1]])"
      ],
      "execution_count": null,
      "outputs": []
    },
    {
      "cell_type": "code",
      "metadata": {
        "colab": {
          "base_uri": "https://localhost:8080/",
          "height": 521
        },
        "id": "_gspT0w0HORp",
        "outputId": "77eb5126-973f-403f-9e38-229cdef963d2"
      },
      "source": [
        "class NeuralNetwork:\n",
        "    # intialize variables in class\n",
        "    def __init__(self, inputs, outputs):\n",
        "        self.inputs  = inputs\n",
        "        self.outputs = outputs\n",
        "        \n",
        "        # initialize weights as .50 for simplicity\n",
        "        self.weights = np.array([[.50], [.50], [.50]])\n",
        "        \n",
        "        # For us to keep track of our training progress\n",
        "        self.error_history = []\n",
        "        self.epoch_list = []\n",
        "\n",
        "        print(\"inputs\",self.inputs)\n",
        "        print(\"init\", np.dot(self.inputs, self.weights))\n",
        "\n",
        "    def sigmoid(self, x, deriv=False):\n",
        "      if deriv == True:\n",
        "        return x * (1 - x)\n",
        "      return 1 / (1 + np.exp(-x))\n",
        "\n",
        "    def feed_forward(self):\n",
        "      self.hidden = self.sigmoid(np.dot(self.inputs, self.weights))\n",
        "      # print(\"hidden\",self.hidden)\n",
        "\n",
        "    def backpropagation(self):\n",
        "      self.error  = self.outputs - self.hidden\n",
        "      delta = self.error * self.sigmoid(self.hidden, deriv=True)\n",
        "      self.weights += np.dot(self.inputs.T, delta)\n",
        "      # print(\"error\", self.error)\n",
        "      # print(\"weights\",self.weights)\n",
        "\n",
        "    def train(self, epochs=25000):\n",
        "      for epoch in range(epochs):\n",
        "          # flow forward and produce an output\n",
        "          self.feed_forward()\n",
        "          # go back though the network to make corrections based on the output\n",
        "          self.backpropagation()    \n",
        "          # keep track of the error history over each epoch\n",
        "          self.error_history.append(np.average(np.abs(self.error)))\n",
        "          self.epoch_list.append(epoch)\n",
        "\n",
        "    # function to predict output on new and unseen input data                               \n",
        "    def predict(self, new_input):\n",
        "        prediction = self.sigmoid(np.dot(new_input, self.weights))\n",
        "        return prediction\n",
        "\n",
        "# create neural network   \n",
        "NN = NeuralNetwork(inputs, outputs)\n",
        "# train neural network\n",
        "NN.train()\n",
        "\n",
        "# create two new examples to predict                                   \n",
        "example = np.array([[1, 1, 0]])\n",
        "example_2 = np.array([[0, 1, 1]])\n",
        "\n",
        "# print the predictions for both examples                                   \n",
        "print(NN.predict(example), ' - Prediction: ', example[0][0])\n",
        "print(NN.predict(example_2), ' - Prediction: ', example_2[0][0])\n",
        "\n",
        "# plot the error over the entire training duration\n",
        "plt.figure(figsize=(15,5))\n",
        "plt.plot(NN.epoch_list, NN.error_history)\n",
        "plt.xlabel('Epoch')\n",
        "plt.ylabel('Error')"
      ],
      "execution_count": null,
      "outputs": [
        {
          "output_type": "stream",
          "text": [
            "inputs [[0 0 1]\n",
            " [0 1 0]\n",
            " [1 0 1]\n",
            " [1 1 0]]\n",
            "init [[0.5]\n",
            " [0.5]\n",
            " [1. ]\n",
            " [1. ]]\n",
            "[[0.99547925]]  - Correct:  1\n",
            "[[4.15133175e-05]]  - Correct:  0\n"
          ],
          "name": "stdout"
        },
        {
          "output_type": "execute_result",
          "data": {
            "text/plain": [
              "Text(0, 0.5, 'Error')"
            ]
          },
          "metadata": {
            "tags": []
          },
          "execution_count": 3
        },
        {
          "output_type": "display_data",
          "data": {
            "image/png": "[encoded data removed]",
            "text/plain": [
              "<Figure size 1080x360 with 1 Axes>"
            ]
          },
          "metadata": {
            "tags": [],
            "needs_background": "light"
          }
        }
      ]
    },
    {
      "cell_type": "code",
      "metadata": {
        "id": "d7KIU6idHZeB"
      },
      "source": [
        ""
      ],
      "execution_count": null,
      "outputs": []
    }
  ]
}