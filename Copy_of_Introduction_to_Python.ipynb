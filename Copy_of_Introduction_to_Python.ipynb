{
  "nbformat": 4,
  "nbformat_minor": 0,
  "metadata": {
    "colab": {
      "name": "Copy of Introduction to Python.ipynb",
      "provenance": [],
      "include_colab_link": true
    },
    "kernelspec": {
      "name": "python3",
      "display_name": "Python 3"
    }
  },
  "cells": [
    {
      "cell_type": "markdown",
      "metadata": {
        "id": "view-in-github",
        "colab_type": "text"
      },
      "source": [
        "<a href=\"https://colab.research.google.com/github/shaarialwi/Data-analyst/blob/main/Copy_of_Introduction_to_Python.ipynb\" target=\"_parent\"><img src=\"https://colab.research.google.com/assets/colab-badge.svg\" alt=\"Open In Colab\"/></a>"
      ]
    },
    {
      "cell_type": "code",
      "metadata": {
        "colab": {
          "base_uri": "https://localhost:8080/"
        },
        "id": "ynXq0mOTnceV",
        "outputId": "f32d6b38-3685-442f-b418-4dfe3c05cdf1"
      },
      "source": [
        "name = \"Edmund\" # String\n",
        "print(\"My name {}\".format(name)) # Old method in Py2\n",
        "print(f\"My name {name}\") # Py3\n",
        "print(f'My name {name}') # Py3\n"
      ],
      "execution_count": null,
      "outputs": [
        {
          "output_type": "stream",
          "text": [
            "My name Edmund\n",
            "My name Edmund\n",
            "My name Edmund\n"
          ],
          "name": "stdout"
        }
      ]
    },
    {
      "cell_type": "code",
      "metadata": {
        "id": "iN9LtOX2vKtg",
        "colab": {
          "base_uri": "https://localhost:8080/"
        },
        "outputId": "92b992f8-e221-4c93-eb00-21b18e8796a2"
      },
      "source": [
        "students = [ \"Alex\", \"Azhar\", \"Edmund\" ]\n",
        "print(f\"students : {students}\")\n",
        "last_student = students.pop()\n",
        "print(f\"students : {students}\")\n",
        "print(f\"last_student : {last_student}\")"
      ],
      "execution_count": null,
      "outputs": [
        {
          "output_type": "stream",
          "text": [
            "students : ['Alex', 'Azhar', 'Edmund']\n",
            "students : ['Alex', 'Azhar']\n",
            "last_student : Edmund\n"
          ],
          "name": "stdout"
        }
      ]
    },
    {
      "cell_type": "code",
      "metadata": {
        "id": "ocZ-QEGqJU0y"
      },
      "source": [
        "example = [1, True, False, 0.0, \"Edmund\", [123], {\"name\":\"edmund\"}]\n",
        "good_practice = [\"Edmund\", \"Alex\"]\n",
        "DS360 = [\n",
        "         {\"name\":\"edmund\", \"gender\":\"male\"},\n",
        "         {\"name\":\"edmund1\", \"gender\":\"male\"},\n",
        "         {\"name\":\"edmnud2\", \"gender\":\"male\"},\n",
        "         {\"name\":\"edmund3\", \"gender\":\"male\"},\n",
        "         {\"name\":\"edmund4\", \"gender\":\"male\"},\n",
        "         {\"name\":\"edmund5\", \"gender\":\"male\"},\n",
        "         {\"name\":\"edmund6\", \"gender\":\"male\"}\n",
        "]"
      ],
      "execution_count": null,
      "outputs": []
    },
    {
      "cell_type": "code",
      "metadata": {
        "colab": {
          "base_uri": "https://localhost:8080/"
        },
        "id": "6phcyhJUMAzS",
        "outputId": "2330234d-aefd-4fce-cf04-020458bc66fc"
      },
      "source": [
        "for student in DS360:\n",
        "  print(f\"Name: {student['name']} Gender: {student['gender']}\")"
      ],
      "execution_count": null,
      "outputs": [
        {
          "output_type": "stream",
          "text": [
            "Name: edmund Gender: male\n",
            "Name: edmund1 Gender: male\n",
            "Name: edmnud2 Gender: male\n",
            "Name: edmund3 Gender: male\n",
            "Name: edmund4 Gender: male\n",
            "Name: edmund5 Gender: male\n",
            "Name: edmund6 Gender: male\n"
          ],
          "name": "stdout"
        }
      ]
    },
    {
      "cell_type": "code",
      "metadata": {
        "colab": {
          "base_uri": "https://localhost:8080/"
        },
        "id": "TCMaSHLxMjL1",
        "outputId": "107cdd24-f295-4f9a-b853-18da7a340427"
      },
      "source": [
        "students = [ \"Alex\", \"Azhar\", \"Edmund\" ]\n",
        "#               0       1         2\n",
        "#               -3      -2        -1\n",
        "print(students[0])\n"
      ],
      "execution_count": null,
      "outputs": [
        {
          "output_type": "stream",
          "text": [
            "Alex\n"
          ],
          "name": "stdout"
        }
      ]
    },
    {
      "cell_type": "code",
      "metadata": {
        "colab": {
          "base_uri": "https://localhost:8080/"
        },
        "id": "B8Yb92QfOFXZ",
        "outputId": "6ce4e07e-7914-486c-8875-4b4a436fe710"
      },
      "source": [
        "print(DS360.pop()) # List\n",
        "print(DS360[0]) # Dictionary\n",
        "print(DS360[0][\"name\"])"
      ],
      "execution_count": null,
      "outputs": [
        {
          "output_type": "stream",
          "text": [
            "{'name': 'edmund6', 'gender': 'male'}\n",
            "{'name': 'edmund', 'gender': 'male'}\n",
            "edmund\n"
          ],
          "name": "stdout"
        }
      ]
    },
    {
      "cell_type": "code",
      "metadata": {
        "colab": {
          "base_uri": "https://localhost:8080/"
        },
        "id": "F9hewyqFOG55",
        "outputId": "14355a13-126b-40e2-fad6-2afbe59cd74a"
      },
      "source": [
        "# More than >\n",
        "# Less Than <\n",
        "# greater than or equal >=\n",
        "# Less than or equal <=\n",
        "# Not equal !=\n",
        "# Equal ==\n",
        "print(f\"5 == 10 : {5 == 10}\") \n",
        "print(f\"5 >= 10 : {5 >= 10}\")\n",
        "print(f\"5 <= 10 : {5 <= 10}\")\n",
        "print(f\"5 != 10 : {5 != 10}\")"
      ],
      "execution_count": null,
      "outputs": [
        {
          "output_type": "stream",
          "text": [
            "5 == 10 : False\n",
            "5 >= 10 : False\n",
            "5 <= 10 : True\n",
            "5 != 10 : True\n"
          ],
          "name": "stdout"
        }
      ]
    },
    {
      "cell_type": "code",
      "metadata": {
        "colab": {
          "base_uri": "https://localhost:8080/"
        },
        "id": "Jtw6dQtQPMc6",
        "outputId": "5f20aa04-3d4d-41fe-f8c9-78e2f47f9cac"
      },
      "source": [
        "condition  = False\n",
        "condition_2 = False\n",
        "\n",
        "if condition :\n",
        "  print(\"Condition is True\")\n",
        "elif condition_2 :\n",
        "  print(\"Condition 2 is True\")\n",
        "else:\n",
        "  print(\"All Conditions are False\")"
      ],
      "execution_count": null,
      "outputs": [
        {
          "output_type": "stream",
          "text": [
            "All Conditions are False\n"
          ],
          "name": "stdout"
        }
      ]
    },
    {
      "cell_type": "code",
      "metadata": {
        "colab": {
          "base_uri": "https://localhost:8080/"
        },
        "id": "WSoFdyavQ8oD",
        "outputId": "414042fa-ced3-445f-a392-07093444b8cf"
      },
      "source": [
        "# Empty list [] - False Condition\n",
        "# Empty String \"\" - False Condition\n",
        "# Value is 0 - False Condition\n",
        "# Variable is null - False Condition\n",
        "\n",
        "v = []\n",
        "\n",
        "if v:\n",
        "  print(\"There's something in the list\")\n",
        "else:\n",
        "  print(\"Nothing in the list\")"
      ],
      "execution_count": null,
      "outputs": [
        {
          "output_type": "stream",
          "text": [
            "Nothing in the list\n"
          ],
          "name": "stdout"
        }
      ]
    },
    {
      "cell_type": "code",
      "metadata": {
        "colab": {
          "base_uri": "https://localhost:8080/"
        },
        "id": "4IN_gNXWRfcD",
        "outputId": "b4250271-f14f-4f42-ea96-e508384d876e"
      },
      "source": [
        "students = [ \"Alex\", \"Azhar\", \"Edmund\" ]\n",
        "print(len(students))"
      ],
      "execution_count": null,
      "outputs": [
        {
          "output_type": "stream",
          "text": [
            "3\n"
          ],
          "name": "stdout"
        }
      ]
    },
    {
      "cell_type": "code",
      "metadata": {
        "colab": {
          "base_uri": "https://localhost:8080/"
        },
        "id": "TSFYvvuSTrf_",
        "outputId": "cd02810a-3725-40b5-929f-b1fbaa8eac31"
      },
      "source": [
        "# Start index = 0\n",
        "# End index = n + 1\n",
        "my_list = []\n",
        "for i in range(0, 11): \n",
        "  print(f\"{i} % 2 = {i % 2}\")\n",
        "  if i % 2 == 0:\n",
        "    my_list.append(i) # Place value inside LIST\n",
        "    print(my_list)"
      ],
      "execution_count": null,
      "outputs": [
        {
          "output_type": "stream",
          "text": [
            "0 % 2 = 0\n",
            "[0]\n",
            "1 % 2 = 1\n",
            "2 % 2 = 0\n",
            "[0, 2]\n",
            "3 % 2 = 1\n",
            "4 % 2 = 0\n",
            "[0, 2, 4]\n",
            "5 % 2 = 1\n",
            "6 % 2 = 0\n",
            "[0, 2, 4, 6]\n",
            "7 % 2 = 1\n",
            "8 % 2 = 0\n",
            "[0, 2, 4, 6, 8]\n",
            "9 % 2 = 1\n",
            "10 % 2 = 0\n",
            "[0, 2, 4, 6, 8, 10]\n"
          ],
          "name": "stdout"
        }
      ]
    },
    {
      "cell_type": "code",
      "metadata": {
        "colab": {
          "base_uri": "https://localhost:8080/"
        },
        "id": "dbQpubdDT95u",
        "outputId": "0e5a9212-a1f5-4e6b-cf7a-a4cfc5e4caeb"
      },
      "source": [
        "numbers = range(0, 100)\n",
        "even = [number for number in numbers if number % 2 == 0]\n",
        "print(even)"
      ],
      "execution_count": null,
      "outputs": [
        {
          "output_type": "stream",
          "text": [
            "[0, 2, 4, 6, 8, 10, 12, 14, 16, 18, 20, 22, 24, 26, 28, 30, 32, 34, 36, 38, 40, 42, 44, 46, 48, 50, 52, 54, 56, 58, 60, 62, 64, 66, 68, 70, 72, 74, 76, 78, 80, 82, 84, 86, 88, 90, 92, 94, 96, 98]\n"
          ],
          "name": "stdout"
        }
      ]
    },
    {
      "cell_type": "code",
      "metadata": {
        "colab": {
          "base_uri": "https://localhost:8080/",
          "height": 35
        },
        "id": "HclXv469WZ1t",
        "outputId": "c07e73ed-dd27-4091-92c4-92139ff6268d"
      },
      "source": [
        "\"edmund\".upper()"
      ],
      "execution_count": null,
      "outputs": [
        {
          "output_type": "execute_result",
          "data": {
            "application/vnd.google.colaboratory.intrinsic+json": {
              "type": "string"
            },
            "text/plain": [
              "'EDMUND'"
            ]
          },
          "metadata": {
            "tags": []
          },
          "execution_count": 47
        }
      ]
    },
    {
      "cell_type": "code",
      "metadata": {
        "colab": {
          "base_uri": "https://localhost:8080/",
          "height": 35
        },
        "id": "nTb61AqmWqFa",
        "outputId": "2b10902d-bf3e-46ac-96e3-fcc14b4fc6fb"
      },
      "source": [
        "\"EDMUND\".lower()"
      ],
      "execution_count": null,
      "outputs": [
        {
          "output_type": "execute_result",
          "data": {
            "application/vnd.google.colaboratory.intrinsic+json": {
              "type": "string"
            },
            "text/plain": [
              "'edmund'"
            ]
          },
          "metadata": {
            "tags": []
          },
          "execution_count": 40
        }
      ]
    },
    {
      "cell_type": "code",
      "metadata": {
        "colab": {
          "base_uri": "https://localhost:8080/"
        },
        "id": "HcV0zdP9Ws1h",
        "outputId": "8fede977-9361-41c7-9804-4a3c2b986577"
      },
      "source": [
        "name = ()\n",
        "print(type(name))"
      ],
      "execution_count": null,
      "outputs": [
        {
          "output_type": "stream",
          "text": [
            "<class 'tuple'>\n"
          ],
          "name": "stdout"
        }
      ]
    },
    {
      "cell_type": "code",
      "metadata": {
        "id": "DLLUAc0yWzOB"
      },
      "source": [
        ""
      ],
      "execution_count": null,
      "outputs": []
    }
  ]
}