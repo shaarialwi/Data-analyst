{
  "nbformat": 4,
  "nbformat_minor": 0,
  "metadata": {
    "colab": {
      "name": "DS360 Kickstart.ipynb",
      "provenance": [],
      "authorship_tag": "ABX9TyMjjcm4AwSHE1mq1E1G5+sg",
      "include_colab_link": true
    },
    "kernelspec": {
      "name": "python3",
      "display_name": "Python 3"
    }
  },
  "cells": [
    {
      "cell_type": "markdown",
      "metadata": {
        "id": "view-in-github",
        "colab_type": "text"
      },
      "source": [
        "<a href=\"https://colab.research.google.com/github/shaarialwi/Data-analyst/blob/main/DS360_Kickstart.ipynb\" target=\"_parent\"><img src=\"https://colab.research.google.com/assets/colab-badge.svg\" alt=\"Open In Colab\"/></a>"
      ]
    },
    {
      "cell_type": "code",
      "metadata": {
        "colab": {
          "base_uri": "https://localhost:8080/"
        },
        "id": "5J0PEZNOpRvB",
        "outputId": "d2111803-cbe3-42a8-f627-56fe9a0e146e"
      },
      "source": [
        "print(\"Hello WOrld\")"
      ],
      "execution_count": 1,
      "outputs": [
        {
          "output_type": "stream",
          "text": [
            "Hello WOrld\n"
          ],
          "name": "stdout"
        }
      ]
    },
    {
      "cell_type": "code",
      "metadata": {
        "colab": {
          "base_uri": "https://localhost:8080/"
        },
        "id": "mIdlerq0pYVq",
        "outputId": "09b7b4d4-cf67-41b0-d8bb-6d299222e555"
      },
      "source": [
        "print(24+3)"
      ],
      "execution_count": 2,
      "outputs": [
        {
          "output_type": "stream",
          "text": [
            "27\n"
          ],
          "name": "stdout"
        }
      ]
    },
    {
      "cell_type": "code",
      "metadata": {
        "colab": {
          "base_uri": "https://localhost:8080/"
        },
        "id": "waNPX2AmpeX_",
        "outputId": "9c30e5ac-47d8-4764-80d7-9aa6b55b7354"
      },
      "source": [
        "print(20>28)"
      ],
      "execution_count": 3,
      "outputs": [
        {
          "output_type": "stream",
          "text": [
            "False\n"
          ],
          "name": "stdout"
        }
      ]
    },
    {
      "cell_type": "code",
      "metadata": {
        "colab": {
          "base_uri": "https://localhost:8080/"
        },
        "id": "WY4qSKKzphkq",
        "outputId": "14ac39ed-6915-47eb-8247-2bae49388568"
      },
      "source": [
        "#variable are placeholder to keep /store data\n",
        "\n",
        "name = \"shaari Alwi\"\n",
        "age = 25\n",
        "married = True\n",
        "print(name, age, married)"
      ],
      "execution_count": 5,
      "outputs": [
        {
          "output_type": "stream",
          "text": [
            "shaari Alwi 25 True\n"
          ],
          "name": "stdout"
        }
      ]
    },
    {
      "cell_type": "code",
      "metadata": {
        "colab": {
          "base_uri": "https://localhost:8080/"
        },
        "id": "C65grTp7p9L4",
        "outputId": "d81ee906-9e34-4628-8a4d-6a5d557e6cf1"
      },
      "source": [
        "print(2020-age)"
      ],
      "execution_count": 7,
      "outputs": [
        {
          "output_type": "stream",
          "text": [
            "1995\n"
          ],
          "name": "stdout"
        }
      ]
    },
    {
      "cell_type": "code",
      "metadata": {
        "colab": {
          "base_uri": "https://localhost:8080/"
        },
        "id": "BYWSENWZqE2v",
        "outputId": "13345b25-0e9a-49d0-c1f5-2e8571b4c12b"
      },
      "source": [
        "print(name.lower())"
      ],
      "execution_count": 8,
      "outputs": [
        {
          "output_type": "stream",
          "text": [
            "shaari alwi\n"
          ],
          "name": "stdout"
        }
      ]
    },
    {
      "cell_type": "code",
      "metadata": {
        "colab": {
          "base_uri": "https://localhost:8080/"
        },
        "id": "tMHsHAO4qR6G",
        "outputId": "e25777f8-3d96-48ba-9ff8-d4d4df8f1197"
      },
      "source": [
        "comment = \" Today is sunday\"\n",
        "print(comment)"
      ],
      "execution_count": 9,
      "outputs": [
        {
          "output_type": "stream",
          "text": [
            " Today is sunday\n"
          ],
          "name": "stdout"
        }
      ]
    },
    {
      "cell_type": "code",
      "metadata": {
        "id": "KnX6rU4jqkVJ"
      },
      "source": [
        ""
      ],
      "execution_count": null,
      "outputs": []
    },
    {
      "cell_type": "markdown",
      "metadata": {
        "id": "TRpDM4Llq5Ao"
      },
      "source": [
        "Store multiple value\n"
      ]
    },
    {
      "cell_type": "code",
      "metadata": {
        "colab": {
          "base_uri": "https://localhost:8080/"
        },
        "id": "UdgipkCWq77b",
        "outputId": "f1c2af9c-702c-4ad6-f1a5-5c699d3f33e9"
      },
      "source": [
        "instructor_at_lead =[\"Lau cher han\", \"reuben\", \"edmun\"]\n",
        "print(instructor_at_lead)"
      ],
      "execution_count": 10,
      "outputs": [
        {
          "output_type": "stream",
          "text": [
            "['Lau cher han', 'reuben', 'edmun']\n"
          ],
          "name": "stdout"
        }
      ]
    },
    {
      "cell_type": "code",
      "metadata": {
        "colab": {
          "base_uri": "https://localhost:8080/"
        },
        "id": "rDyWzWfBrKSd",
        "outputId": "f730b152-bdce-485b-cc18-c29ca42d76d6"
      },
      "source": [
        "programming_language = [\"python\", \"java\", \"cobol\"]\n",
        "print (programming_language)"
      ],
      "execution_count": 11,
      "outputs": [
        {
          "output_type": "stream",
          "text": [
            "['python', 'java', 'cobol']\n"
          ],
          "name": "stdout"
        }
      ]
    },
    {
      "cell_type": "code",
      "metadata": {
        "colab": {
          "base_uri": "https://localhost:8080/"
        },
        "id": "EocAhArqrbRR",
        "outputId": "88334110-cf40-4418-d9c6-05f3c8ba868f"
      },
      "source": [
        "instructor1 = {\n",
        "    'name': 'lau cher han',\n",
        "    'age': 25,\n",
        "    'course_taught': 'Data Science 360'\n",
        "}\n",
        "instructor2 = {\n",
        "    'name': 'lau cher han',\n",
        "    'age': 25,\n",
        "    'course_taught': 'Data Science 360'\n",
        "}\n",
        "instructor_at_lead = [instructor1, instructor2]\n",
        "print(instructor_at_lead)"
      ],
      "execution_count": 12,
      "outputs": [
        {
          "output_type": "stream",
          "text": [
            "[{'name': 'lau cher han', 'age': 25, 'course_taught': 'Data Science 360'}, {'name': 'lau cher han', 'age': 25, 'course_taught': 'Data Science 360'}]\n"
          ],
          "name": "stdout"
        }
      ]
    },
    {
      "cell_type": "code",
      "metadata": {
        "colab": {
          "base_uri": "https://localhost:8080/"
        },
        "id": "VhZg4yZctIds",
        "outputId": "4e6e5c13-fd4b-47c3-8446-e13ba7a837ca"
      },
      "source": [
        "numbers=[1,2,3,4,5,6,7,8,9,10]\n",
        "print (numbers)"
      ],
      "execution_count": 13,
      "outputs": [
        {
          "output_type": "stream",
          "text": [
            "[1, 2, 3, 4, 5, 6, 7, 8, 9, 10]\n"
          ],
          "name": "stdout"
        }
      ]
    },
    {
      "cell_type": "code",
      "metadata": {
        "colab": {
          "base_uri": "https://localhost:8080/"
        },
        "id": "34A4tKUotYzg",
        "outputId": "115477cc-7645-4149-9dd0-2280814e415b"
      },
      "source": [
        "print(numbers[2])"
      ],
      "execution_count": 14,
      "outputs": [
        {
          "output_type": "stream",
          "text": [
            "3\n"
          ],
          "name": "stdout"
        }
      ]
    },
    {
      "cell_type": "code",
      "metadata": {
        "colab": {
          "base_uri": "https://localhost:8080/"
        },
        "id": "JvSnDomHtgMf",
        "outputId": "a3e09485-a5df-4a07-c9b4-21a27e645d08"
      },
      "source": [
        "print(\"laucherhan\".upper())"
      ],
      "execution_count": 15,
      "outputs": [
        {
          "output_type": "stream",
          "text": [
            "LAUCHERHAN\n"
          ],
          "name": "stdout"
        }
      ]
    },
    {
      "cell_type": "code",
      "metadata": {
        "colab": {
          "base_uri": "https://localhost:8080/"
        },
        "id": "YDyiDBBYuPsI",
        "outputId": "49f5a349-7491-4214-ca9f-10aab77d690c"
      },
      "source": [
        "#[] when you use it ias a list\n",
        "number =[1,2,3,4,5]\n",
        "print(number[2])"
      ],
      "execution_count": 16,
      "outputs": [
        {
          "output_type": "stream",
          "text": [
            "3\n"
          ],
          "name": "stdout"
        }
      ]
    },
    {
      "cell_type": "code",
      "metadata": {
        "id": "8pbTC5-3ujl0"
      },
      "source": [
        "#use curly brackets for dictionaries\n",
        "instructor1 = {\n",
        "    'name': 'lau cher han',\n",
        "    'age': 25,\n",
        "    'course_taught': 'Data Science 360'\n",
        "}"
      ],
      "execution_count": 17,
      "outputs": []
    },
    {
      "cell_type": "code",
      "metadata": {
        "colab": {
          "base_uri": "https://localhost:8080/"
        },
        "id": "XdM8cTzEu5Jk",
        "outputId": "d3d5fba7-cd85-4367-872a-39145ce134ec"
      },
      "source": [
        "numbers=[1,2,3,4,5,6,7,8,9,10]\n",
        "for n in numbers:\n",
        "  print(numbers)"
      ],
      "execution_count": 18,
      "outputs": [
        {
          "output_type": "stream",
          "text": [
            "[1, 2, 3, 4, 5, 6, 7, 8, 9, 10]\n",
            "[1, 2, 3, 4, 5, 6, 7, 8, 9, 10]\n",
            "[1, 2, 3, 4, 5, 6, 7, 8, 9, 10]\n",
            "[1, 2, 3, 4, 5, 6, 7, 8, 9, 10]\n",
            "[1, 2, 3, 4, 5, 6, 7, 8, 9, 10]\n",
            "[1, 2, 3, 4, 5, 6, 7, 8, 9, 10]\n",
            "[1, 2, 3, 4, 5, 6, 7, 8, 9, 10]\n",
            "[1, 2, 3, 4, 5, 6, 7, 8, 9, 10]\n",
            "[1, 2, 3, 4, 5, 6, 7, 8, 9, 10]\n",
            "[1, 2, 3, 4, 5, 6, 7, 8, 9, 10]\n"
          ],
          "name": "stdout"
        }
      ]
    },
    {
      "cell_type": "code",
      "metadata": {
        "colab": {
          "base_uri": "https://localhost:8080/"
        },
        "id": "kYiNk7z_vUPY",
        "outputId": "df1f2926-a84e-456a-cd61-e69b02afc4b9"
      },
      "source": [
        "numbers=[1,2,3,4,5,6,7,8,9,10]\n",
        "for n in numbers:\n",
        "  print(\"the square of\",n, \"is\", n**2)"
      ],
      "execution_count": 20,
      "outputs": [
        {
          "output_type": "stream",
          "text": [
            "the square of 1 is 1\n",
            "the square of 2 is 4\n",
            "the square of 3 is 9\n",
            "the square of 4 is 16\n",
            "the square of 5 is 25\n",
            "the square of 6 is 36\n",
            "the square of 7 is 49\n",
            "the square of 8 is 64\n",
            "the square of 9 is 81\n",
            "the square of 10 is 100\n"
          ],
          "name": "stdout"
        }
      ]
    },
    {
      "cell_type": "code",
      "metadata": {
        "colab": {
          "base_uri": "https://localhost:8080/"
        },
        "id": "xW0X5aKBviU3",
        "outputId": "eb37c4bb-f9d2-42f3-f79c-5864f1b9349a"
      },
      "source": [
        "exam_scores = [56,70,73,88,68,75]\n",
        "Total_score = 0\n",
        "\n",
        "for score in exam_scores:\n",
        "  Total_score = Total_score + score\n",
        "  print('Current score', score)\n",
        "  print('---')\n",
        "\n",
        "Average_score = Total_score / len(exam_scores)\n",
        "\n",
        "print(\"The average score is\", Average_score)"
      ],
      "execution_count": 26,
      "outputs": [
        {
          "output_type": "stream",
          "text": [
            "Current score 56\n",
            "---\n",
            "Current score 70\n",
            "---\n",
            "Current score 73\n",
            "---\n",
            "Current score 88\n",
            "---\n",
            "Current score 68\n",
            "---\n",
            "Current score 75\n",
            "---\n",
            "The average score is 71.66666666666667\n"
          ],
          "name": "stdout"
        }
      ]
    },
    {
      "cell_type": "code",
      "metadata": {
        "id": "dUdF1MsowNQ7"
      },
      "source": [
        "students_score = [\n",
        "                  {\"name\": \"Alice\",\"score\":68},\n",
        "                  {\"name\": \"Ali\",\"score\":60},\n",
        "                  {\"name\": \"bakae\",\"score\":88},\n",
        "                  {\"name\": \"Tan\",\"score\":48},\n",
        "]\n",
        "\n"
      ],
      "execution_count": 27,
      "outputs": []
    },
    {
      "cell_type": "code",
      "metadata": {
        "colab": {
          "base_uri": "https://localhost:8080/"
        },
        "id": "wY4hOOV7yJDY",
        "outputId": "e8554dbd-a431-4451-e9c7-b958e0a8ef13"
      },
      "source": [
        "passing_mark = 60\n",
        "\n",
        "print('Student who fail:')\n",
        "for student in students_score:\n",
        "  if student['score'] <= passing_mark:\n",
        "    print (student['name'])"
      ],
      "execution_count": 32,
      "outputs": [
        {
          "output_type": "stream",
          "text": [
            "Student who fail:\n",
            "Ali\n",
            "Tan\n"
          ],
          "name": "stdout"
        }
      ]
    },
    {
      "cell_type": "code",
      "metadata": {
        "colab": {
          "base_uri": "https://localhost:8080/"
        },
        "id": "Mc6a98RiyfyL",
        "outputId": "57e6e805-2b9b-4abe-d0c2-5492d3c57ab2"
      },
      "source": [
        "age = 40\n",
        "print (age <= 40)"
      ],
      "execution_count": 33,
      "outputs": [
        {
          "output_type": "stream",
          "text": [
            "True\n"
          ],
          "name": "stdout"
        }
      ]
    },
    {
      "cell_type": "code",
      "metadata": {
        "colab": {
          "base_uri": "https://localhost:8080/"
        },
        "id": "i629cdGhy4D4",
        "outputId": "f0e05c32-d836-460a-c710-c7b2134e96c5"
      },
      "source": [
        "n = 1\n",
        "\n",
        "while (n <=5):\n",
        "  print(n)\n",
        "  n = n+1"
      ],
      "execution_count": 34,
      "outputs": [
        {
          "output_type": "stream",
          "text": [
            "1\n",
            "2\n",
            "3\n",
            "4\n",
            "5\n"
          ],
          "name": "stdout"
        }
      ]
    },
    {
      "cell_type": "code",
      "metadata": {
        "id": "HyJPBxbWzoGK"
      },
      "source": [
        ""
      ],
      "execution_count": null,
      "outputs": []
    }
  ]
}