{
  "nbformat": 4,
  "nbformat_minor": 0,
  "metadata": {
    "colab": {
      "name": "Else-if-loop.ipynb",
      "provenance": [],
      "authorship_tag": "ABX9TyPxMwJiYsbd31CkfxNwCr6A",
      "include_colab_link": true
    },
    "kernelspec": {
      "name": "python3",
      "display_name": "Python 3"
    }
  },
  "cells": [
    {
      "cell_type": "markdown",
      "metadata": {
        "id": "view-in-github",
        "colab_type": "text"
      },
      "source": [
        "<a href=\"https://colab.research.google.com/github/shaarialwi/Data-analyst/blob/main/Else_if_loop.ipynb\" target=\"_parent\"><img src=\"https://colab.research.google.com/assets/colab-badge.svg\" alt=\"Open In Colab\"/></a>"
      ]
    },
    {
      "cell_type": "code",
      "metadata": {
        "id": "PgMmK6aUnWI7",
        "outputId": "6f6e94e8-adee-45fa-d1fd-97e279a25ddf",
        "colab": {
          "base_uri": "https://localhost:8080/"
        }
      },
      "source": [
        "\n",
        "markah = int(input(\"masukkan markah anda\"))\n",
        "if (markah >=80):\n",
        "  print(\"A\")\n",
        "elif (markah >=60 ):\n",
        "  print(\"B\")\n",
        "elif (markah >=40):\n",
        "  print (\"C\")\n",
        "else:\n",
        "  print(\"E\")\n"
      ],
      "execution_count": 1,
      "outputs": [
        {
          "output_type": "stream",
          "text": [
            "masukkan markah anda40\n",
            "C\n"
          ],
          "name": "stdout"
        }
      ]
    },
    {
      "cell_type": "code",
      "metadata": {
        "id": "PQQ9IERaocxv",
        "outputId": "6ae05c9a-3807-4d16-fa62-c6f570b24c6a",
        "colab": {
          "base_uri": "https://localhost:8080/"
        }
      },
      "source": [
        "#while -Loop \n",
        "\n",
        "i= 5\n",
        "while ( i>=2):\n",
        "  print(f\" Nilai i ={i}\")\n",
        "  i=i-1\n",
        "print(\"End\")\n",
        "\n"
      ],
      "execution_count": 2,
      "outputs": [
        {
          "output_type": "stream",
          "text": [
            " Nilai i =5\n",
            " Nilai i =4\n",
            " Nilai i =3\n",
            " Nilai i =2\n",
            "End\n"
          ],
          "name": "stdout"
        }
      ]
    },
    {
      "cell_type": "code",
      "metadata": {
        "id": "Yqkg7w6mp-fG",
        "outputId": "22415e69-c354-4bcb-f615-df730cf295af",
        "colab": {
          "base_uri": "https://localhost:8080/"
        }
      },
      "source": [
        "from random import randint\n",
        "\n",
        "nombor = randint(0,10)\n",
        "\n",
        "jawapan = int(input(\"masukkan no anda\"))\n",
        "\n",
        "while (jawapan != nombor):\n",
        "  jawapan = int(input(\"masukkan no baru\")) \n",
        "\n",
        "print (f\"nilai no ialah {nombor}\")"
      ],
      "execution_count": 4,
      "outputs": [
        {
          "output_type": "stream",
          "text": [
            "masukkan no anda2\n",
            "masukkan no baru3\n",
            "nilai no ialah 3\n"
          ],
          "name": "stdout"
        }
      ]
    },
    {
      "cell_type": "code",
      "metadata": {
        "id": "jY4Jv_h6slAc"
      },
      "source": [
        ""
      ],
      "execution_count": null,
      "outputs": []
    }
  ]
}