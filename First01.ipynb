{
  "nbformat": 4,
  "nbformat_minor": 0,
  "metadata": {
    "colab": {
      "name": "First01.ipynb",
      "provenance": [],
      "authorship_tag": "ABX9TyMqh+Y4Awz/ZIzxqC8pFZxM",
      "include_colab_link": true
    },
    "kernelspec": {
      "name": "python3",
      "display_name": "Python 3"
    }
  },
  "cells": [
    {
      "cell_type": "markdown",
      "metadata": {
        "id": "view-in-github",
        "colab_type": "text"
      },
      "source": [
        "<a href=\"https://colab.research.google.com/github/shaarialwi/Data-analyst/blob/main/First01.ipynb\" target=\"_parent\"><img src=\"https://colab.research.google.com/assets/colab-badge.svg\" alt=\"Open In Colab\"/></a>"
      ]
    },
    {
      "cell_type": "markdown",
      "metadata": {
        "id": "qiDdBVLbuYtl"
      },
      "source": [
        ""
      ]
    },
    {
      "cell_type": "code",
      "metadata": {
        "id": "jnPrbhueqI41",
        "outputId": "2628f98f-9ce7-4773-c87d-abaf3b2ecb1c",
        "colab": {
          "base_uri": "https://localhost:8080/"
        }
      },
      "source": [
        "print(\"Hello Worl\")"
      ],
      "execution_count": 1,
      "outputs": [
        {
          "output_type": "stream",
          "text": [
            "Hello Worl\n"
          ],
          "name": "stdout"
        }
      ]
    },
    {
      "cell_type": "code",
      "metadata": {
        "id": "rKm2wlafqMyb",
        "outputId": "2099b084-6002-4d62-a14e-264c5d801eb9",
        "colab": {
          "base_uri": "https://localhost:8080/"
        }
      },
      "source": [
        "#Find student fail in exam\n",
        "student_scores = [\n",
        "                  {\"name\": \"Ali\", \"score\": 60},\n",
        "                  {\"name\": \"Abu\", \"score\": 55},\n",
        "                  {\"name\": \"bakar\", \"score\": 70},\n",
        "                  {\"name\": \"ahmad\", \"score\": 40}\n",
        "]\n",
        "print(\"student who fail:\")\n",
        "for student in student_scores:\n",
        "  if student [\"score\"] < 50: \n",
        "    print (student[\"name\"],\"scores\", student[\"score\"], \"in the exam\")"
      ],
      "execution_count": 12,
      "outputs": [
        {
          "output_type": "stream",
          "text": [
            "student who fail:\n",
            "ahmad scores 40 in the exam\n"
          ],
          "name": "stdout"
        }
      ]
    },
    {
      "cell_type": "code",
      "metadata": {
        "id": "fIu35Kajsu8q"
      },
      "source": [
        ""
      ],
      "execution_count": null,
      "outputs": []
    }
  ]
}