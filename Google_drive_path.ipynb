{
  "nbformat": 4,
  "nbformat_minor": 0,
  "metadata": {
    "colab": {
      "name": "Google-drive-path.ipynb",
      "provenance": [],
      "authorship_tag": "ABX9TyP/DeoYb/YOkQUFu/O06iuX",
      "include_colab_link": true
    },
    "kernelspec": {
      "name": "python3",
      "display_name": "Python 3"
    }
  },
  "cells": [
    {
      "cell_type": "markdown",
      "metadata": {
        "id": "view-in-github",
        "colab_type": "text"
      },
      "source": [
        "<a href=\"https://colab.research.google.com/github/shaarialwi/Data-analyst/blob/main/Google_drive_path.ipynb\" target=\"_parent\"><img src=\"https://colab.research.google.com/assets/colab-badge.svg\" alt=\"Open In Colab\"/></a>"
      ]
    },
    {
      "cell_type": "code",
      "metadata": {
        "id": "-dz5rhWGmztO"
      },
      "source": [
        "#Start by connecting gdrive into the google colab\n",
        "\n",
        "from google.colab import auth\n",
        "auth.authenticate_user()\n",
        "import gspread\n",
        "from oauth2client.client import GoogleCredentials\n",
        "gc = gspread.authorize(GoogleCredentials.get_application_default())"
      ],
      "execution_count": 12,
      "outputs": []
    },
    {
      "cell_type": "code",
      "metadata": {
        "id": "ZrvDMzifnATg"
      },
      "source": [
        "import pandas as pd\n",
        "import matplotlib.pyplot as plt\n"
      ],
      "execution_count": 57,
      "outputs": []
    },
    {
      "cell_type": "code",
      "metadata": {
        "id": "rQawx9ynniLb"
      },
      "source": [
        "wb = gc.open_by_url('https://docs.google.com/spreadsheets/d/1KPGQyx1D-FdenDgNh-7PYQAjcrTKiHlc9LDkKo_zRyM/edit#gid=600916757')"
      ],
      "execution_count": 59,
      "outputs": []
    },
    {
      "cell_type": "code",
      "metadata": {
        "id": "5rP65jyQotah"
      },
      "source": [
        "wks = wb.worksheet('Test1')"
      ],
      "execution_count": 64,
      "outputs": []
    },
    {
      "cell_type": "code",
      "metadata": {
        "id": "SpFoOm4Sp1r9"
      },
      "source": [
        "data = wks.get_all_values()"
      ],
      "execution_count": 66,
      "outputs": []
    },
    {
      "cell_type": "code",
      "metadata": {
        "id": "_xJtk_nYqIUS"
      },
      "source": [
        "df = pd.DataFrame(data)\n",
        "df.columns = df.iloc[0]\n",
        "df = df.iloc[1:]"
      ],
      "execution_count": 67,
      "outputs": []
    },
    {
      "cell_type": "code",
      "metadata": {
        "id": "_mEWDvc0yU3_",
        "outputId": "678d9a30-913e-421a-b92f-df83d0c9a475",
        "colab": {
          "base_uri": "https://localhost:8080/",
          "height": 204
        }
      },
      "source": [
        "df.head()"
      ],
      "execution_count": 68,
      "outputs": [
        {
          "output_type": "execute_result",
          "data": {
            "text/html": [
              "<div>\n",
              "<style scoped>\n",
              "    .dataframe tbody tr th:only-of-type {\n",
              "        vertical-align: middle;\n",
              "    }\n",
              "\n",
              "    .dataframe tbody tr th {\n",
              "        vertical-align: top;\n",
              "    }\n",
              "\n",
              "    .dataframe thead th {\n",
              "        text-align: right;\n",
              "    }\n",
              "</style>\n",
              "<table border=\"1\" class=\"dataframe\">\n",
              "  <thead>\n",
              "    <tr style=\"text-align: right;\">\n",
              "      <th></th>\n",
              "      <th>No</th>\n",
              "      <th>NAME</th>\n",
              "      <th>NRIC NO</th>\n",
              "      <th>MCQ (25%)</th>\n",
              "      <th>MCQ (50%)</th>\n",
              "      <th>Practical (50%)</th>\n",
              "      <th>Total (100%)</th>\n",
              "    </tr>\n",
              "  </thead>\n",
              "  <tbody>\n",
              "    <tr>\n",
              "      <th>1</th>\n",
              "      <td>1</td>\n",
              "      <td>AHMAD ZULHILMI BIN ZAINAL</td>\n",
              "      <td>920813-11-5609</td>\n",
              "      <td>23</td>\n",
              "      <td>46</td>\n",
              "      <td>42</td>\n",
              "      <td>88</td>\n",
              "    </tr>\n",
              "    <tr>\n",
              "      <th>2</th>\n",
              "      <td>2</td>\n",
              "      <td>AMIRUL AFIQ BIN KAMAL KURSHID</td>\n",
              "      <td>930416-06-5125</td>\n",
              "      <td>21</td>\n",
              "      <td>42</td>\n",
              "      <td>43</td>\n",
              "      <td>85</td>\n",
              "    </tr>\n",
              "    <tr>\n",
              "      <th>3</th>\n",
              "      <td>3</td>\n",
              "      <td>AMIRUL ASRAF BIN ADAM</td>\n",
              "      <td>930222-14-5805</td>\n",
              "      <td>13</td>\n",
              "      <td>26</td>\n",
              "      <td>43</td>\n",
              "      <td>69</td>\n",
              "    </tr>\n",
              "    <tr>\n",
              "      <th>4</th>\n",
              "      <td>4</td>\n",
              "      <td>ANIZAMARIAH BINTI HAJI DAUD</td>\n",
              "      <td>871010-14-5152</td>\n",
              "      <td>25</td>\n",
              "      <td>50</td>\n",
              "      <td>42</td>\n",
              "      <td>92</td>\n",
              "    </tr>\n",
              "    <tr>\n",
              "      <th>5</th>\n",
              "      <td>5</td>\n",
              "      <td>ARIFFIN BIN MOHD ZAID</td>\n",
              "      <td>920701-05-5365</td>\n",
              "      <td>20</td>\n",
              "      <td>40</td>\n",
              "      <td>37</td>\n",
              "      <td>77</td>\n",
              "    </tr>\n",
              "  </tbody>\n",
              "</table>\n",
              "</div>"
            ],
            "text/plain": [
              "0 No                           NAME  ... Practical (50%) Total (100%)\n",
              "1  1      AHMAD ZULHILMI BIN ZAINAL  ...              42           88\n",
              "2  2  AMIRUL AFIQ BIN KAMAL KURSHID  ...              43           85\n",
              "3  3          AMIRUL ASRAF BIN ADAM  ...              43           69\n",
              "4  4    ANIZAMARIAH BINTI HAJI DAUD  ...              42           92\n",
              "5  5          ARIFFIN BIN MOHD ZAID  ...              37           77\n",
              "\n",
              "[5 rows x 7 columns]"
            ]
          },
          "metadata": {
            "tags": []
          },
          "execution_count": 68
        }
      ]
    },
    {
      "cell_type": "code",
      "metadata": {
        "id": "eYbpynrIyXrX"
      },
      "source": [
        ""
      ],
      "execution_count": null,
      "outputs": []
    }
  ]
}