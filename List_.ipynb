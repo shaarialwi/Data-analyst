{
  "nbformat": 4,
  "nbformat_minor": 0,
  "metadata": {
    "colab": {
      "name": "List .ipynb",
      "provenance": [],
      "authorship_tag": "ABX9TyOW3KQ5ndQXkFyeu82Ab4o1",
      "include_colab_link": true
    },
    "kernelspec": {
      "name": "python3",
      "display_name": "Python 3"
    }
  },
  "cells": [
    {
      "cell_type": "markdown",
      "metadata": {
        "id": "view-in-github",
        "colab_type": "text"
      },
      "source": [
        "<a href=\"https://colab.research.google.com/github/shaarialwi/Data-analyst/blob/main/List_.ipynb\" target=\"_parent\"><img src=\"https://colab.research.google.com/assets/colab-badge.svg\" alt=\"Open In Colab\"/></a>"
      ]
    },
    {
      "cell_type": "code",
      "metadata": {
        "id": "RPkEaM6Ats1x",
        "outputId": "c2b86c14-f4b7-4ee7-f47e-c979374c50a3",
        "colab": {
          "base_uri": "https://localhost:8080/"
        }
      },
      "source": [
        "#Basic structure data\n",
        "#List\n",
        "\n",
        "jenis_kek = [\"kek lapis\", \"kek marble\", \"kek coklat\",\"kek cheese\"]\n",
        "\n",
        "print(jenis_kek)\n",
        "print(jenis_kek[1])"
      ],
      "execution_count": 2,
      "outputs": [
        {
          "output_type": "stream",
          "text": [
            "['kek lapis', 'kek marble', 'kek coklat', 'kek cheese']\n",
            "kek marble\n"
          ],
          "name": "stdout"
        }
      ]
    },
    {
      "cell_type": "code",
      "metadata": {
        "id": "sTUIf94iuLvK",
        "outputId": "987b4f13-d4e1-46fa-8a18-45a188f9f432",
        "colab": {
          "base_uri": "https://localhost:8080/"
        }
      },
      "source": [
        "random_list = [1,\"satu\", 0.555]\n",
        "\n",
        "for i in random_list:\n",
        "  print(type(i))"
      ],
      "execution_count": 5,
      "outputs": [
        {
          "output_type": "stream",
          "text": [
            "<class 'int'>\n",
            "<class 'str'>\n",
            "<class 'float'>\n"
          ],
          "name": "stdout"
        }
      ]
    },
    {
      "cell_type": "code",
      "metadata": {
        "id": "YhfMntTpvqZL"
      },
      "source": [
        ""
      ],
      "execution_count": null,
      "outputs": []
    }
  ]
}