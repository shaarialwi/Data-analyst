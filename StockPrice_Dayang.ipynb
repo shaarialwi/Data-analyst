{
  "nbformat": 4,
  "nbformat_minor": 0,
  "metadata": {
    "colab": {
      "name": "StockPrice-Dayang.ipynb",
      "provenance": [],
      "collapsed_sections": [],
      "authorship_tag": "ABX9TyNVj8QMRgno4UHNr/xK/Jmu",
      "include_colab_link": true
    },
    "kernelspec": {
      "name": "python3",
      "display_name": "Python 3"
    }
  },
  "cells": [
    {
      "cell_type": "markdown",
      "metadata": {
        "id": "view-in-github",
        "colab_type": "text"
      },
      "source": [
        "<a href=\"https://colab.research.google.com/github/shaarialwi/Data-analyst/blob/main/StockPrice_Dayang.ipynb\" target=\"_parent\"><img src=\"https://colab.research.google.com/assets/colab-badge.svg\" alt=\"Open In Colab\"/></a>"
      ]
    },
    {
      "cell_type": "code",
      "metadata": {
        "colab": {
          "base_uri": "https://localhost:8080/"
        },
        "id": "WZq4mPJGrYEX",
        "outputId": "52b97f5e-4741-4af1-cead-10c674266b13"
      },
      "source": [
        "#Credit to Walt G\n",
        "#Using Yahoo Finance\n",
        "#!pip install requests\n",
        "#!pip install BeautifulSoup4\n",
        "import requests\n",
        "\n",
        "from  bs4 import BeautifulSoup\n",
        "\n",
        "def priceTracker():\n",
        "\n",
        "  url = 'https://finance.yahoo.com/quote/5141.KL?p=5141.KL&.tsrc=fin-srch'\n",
        "\n",
        "  response = requests.get(url)\n",
        "\n",
        "  soup = BeautifulSoup(response.text, 'lxml')\n",
        "  #print(soup)\n",
        "\n",
        "  price = soup.find_all ('div', {'class' : 'My(6px) Pos(r) smartphone_Mt(6px)' })[0].find().text\n",
        "  return price\n",
        "print('Current Price: ' + priceTracker())\n",
        "\n"
      ],
      "execution_count": 34,
      "outputs": [
        {
          "output_type": "stream",
          "text": [
            "Current Price: 1.2600+0.0400 (+3.28%)At close:  4:59PM MYT\n"
          ],
          "name": "stdout"
        }
      ]
    },
    {
      "cell_type": "code",
      "metadata": {
        "id": "lZJFjF3Ysi8W"
      },
      "source": [
        ""
      ],
      "execution_count": null,
      "outputs": []
    }
  ]
}