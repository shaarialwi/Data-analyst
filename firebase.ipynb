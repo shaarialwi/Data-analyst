{
  "nbformat": 4,
  "nbformat_minor": 0,
  "metadata": {
    "colab": {
      "name": "firebase.ipynb",
      "provenance": [],
      "authorship_tag": "ABX9TyO0ObsCLoTfwj2poIeF0bxz",
      "include_colab_link": true
    },
    "kernelspec": {
      "name": "python3",
      "display_name": "Python 3"
    },
    "language_info": {
      "name": "python"
    }
  },
  "cells": [
    {
      "cell_type": "markdown",
      "metadata": {
        "id": "view-in-github",
        "colab_type": "text"
      },
      "source": [
        "<a href=\"https://colab.research.google.com/github/shaarialwi/Data-analyst/blob/main/firebase.ipynb\" target=\"_parent\"><img src=\"https://colab.research.google.com/assets/colab-badge.svg\" alt=\"Open In Colab\"/></a>"
      ]
    },
    {
      "cell_type": "code",
      "metadata": {
        "colab": {
          "base_uri": "https://localhost:8080/"
        },
        "id": "Vf9EetLJavlH",
        "outputId": "66b29876-5884-485a-853c-fdc1dab1435e"
      },
      "source": [
        "import firebase_admin\n",
        "from firebase_admin import credentials\n",
        "\n",
        "cred = credentials.Certificate(\"/content/ds360march2021-firebase-adminsdk-x0g8m-57ca38fcf8.json\")\n",
        "firebase_admin.initialize_app(cred)"
      ],
      "execution_count": 1,
      "outputs": [
        {
          "output_type": "execute_result",
          "data": {
            "text/plain": [
              "<firebase_admin.App at 0x7f6644373f50>"
            ]
          },
          "metadata": {
            "tags": []
          },
          "execution_count": 1
        }
      ]
    },
    {
      "cell_type": "code",
      "metadata": {
        "id": "u2kKqjb-bpze"
      },
      "source": [
        "from firebase_admin import firestore\n",
        "db = firestore.client()"
      ],
      "execution_count": 2,
      "outputs": []
    },
    {
      "cell_type": "code",
      "metadata": {
        "id": "29d9dlTPbzds"
      },
      "source": [
        "def save(collection_id, document_id, data):        \n",
        "    db.collection(collection_id).document(document_id).set(data)"
      ],
      "execution_count": 4,
      "outputs": []
    },
    {
      "cell_type": "code",
      "metadata": {
        "id": "4O-J-m1ZcMSn"
      },
      "source": [
        "customer_profile = {\n",
        "    \"first_name\" : \"Jacky\",\n",
        "    \"last_name\" : \"Alexander\",\n",
        "    \"created_date\" : \"2019-12-01 18:00:00\",\n",
        "    \"lifetime_value\": 1200.00,\n",
        "    \"purchase_profile\": {\n",
        "        \"transaction_made\" : 15,\n",
        "        \"search_count\": 189,\n",
        "        \"categories_searched_count\": 20,\n",
        "        \"total_spend\": 578.56,\n",
        "        \"promo_used\": 5,\n",
        " }\n",
        "}\n",
        "save(\n",
        "    collection_id=\"CustomerProfile\",\n",
        "    document_id=f\"{customer_profile['first_name'].lower()}-{customer_profile['last_name'].lower()}\",\n",
        "    data=customer_profile\n",
        ")\n"
      ],
      "execution_count": 8,
      "outputs": []
    },
    {
      "cell_type": "code",
      "metadata": {
        "colab": {
          "base_uri": "https://localhost:8080/"
        },
        "id": "MuAef6T-dFTf",
        "outputId": "d438a5e9-cada-40c6-a5b4-2ef45e87e365"
      },
      "source": [
        "def get_document(collection_id, document_id):\n",
        " doc_reference = db.collection(collection_id).document(document_id)\n",
        " doc = doc_reference.get()\n",
        " return doc.to_dict()\n",
        "fb_customer_profile = get_document(\n",
        " collection_id=\"CustomerProfile\",\n",
        " document_id=\"jacky-alexander\"\n",
        ")\n",
        "print(fb_customer_profile)"
      ],
      "execution_count": 9,
      "outputs": [
        {
          "output_type": "stream",
          "text": [
            "{'lifetime_value': 1200.0, 'purchase_profile': {'promo_used': 5, 'transaction_made': 15, 'categories_searched_count': 20, 'total_spend': 578.56, 'search_count': 189}, 'last_name': 'Alexander', 'first_name': 'Jacky', 'created_date': '2019-12-01 18:00:00'}\n"
          ],
          "name": "stdout"
        }
      ]
    }
  ]
}