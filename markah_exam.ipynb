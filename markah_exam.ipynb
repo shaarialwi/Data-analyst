{
  "nbformat": 4,
  "nbformat_minor": 0,
  "metadata": {
    "colab": {
      "name": "markah exam.ipynb",
      "provenance": [],
      "authorship_tag": "ABX9TyMxj4FIa14WE7m9mZH0n7/1",
      "include_colab_link": true
    },
    "kernelspec": {
      "name": "python3",
      "display_name": "Python 3"
    }
  },
  "cells": [
    {
      "cell_type": "markdown",
      "metadata": {
        "id": "view-in-github",
        "colab_type": "text"
      },
      "source": [
        "<a href=\"https://colab.research.google.com/github/shaarialwi/Data-analyst/blob/main/markah_exam.ipynb\" target=\"_parent\"><img src=\"https://colab.research.google.com/assets/colab-badge.svg\" alt=\"Open In Colab\"/></a>"
      ]
    },
    {
      "cell_type": "code",
      "metadata": {
        "id": "PgMmK6aUnWI7",
        "outputId": "6f6e94e8-adee-45fa-d1fd-97e279a25ddf",
        "colab": {
          "base_uri": "https://localhost:8080/"
        }
      },
      "source": [
        "\n",
        "markah = int(input(\"masukkan markah anda\"))\n",
        "if (markah >=80):\n",
        "  print(\"A\")\n",
        "elif (markah >=60 ):\n",
        "  print(\"B\")\n",
        "elif (markah >=40):\n",
        "  print (\"C\")\n",
        "else:\n",
        "  print(\"E\")\n"
      ],
      "execution_count": 1,
      "outputs": [
        {
          "output_type": "stream",
          "text": [
            "masukkan markah anda40\n",
            "C\n"
          ],
          "name": "stdout"
        }
      ]
    },
    {
      "cell_type": "code",
      "metadata": {
        "id": "PQQ9IERaocxv"
      },
      "source": [
        ""
      ],
      "execution_count": null,
      "outputs": []
    }
  ]
}